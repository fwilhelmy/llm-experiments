{
 "cells": [
  {
   "cell_type": "markdown",
   "metadata": {},
   "source": [
    "# Google Colab (Skip locally)"
   ]
  },
  {
   "cell_type": "code",
   "execution_count": null,
   "metadata": {},
   "outputs": [],
   "source": [
    "#@title Mount your Google Drive\n",
    "# If you run this notebook locally or on a cluster (i.e. not on Google Colab)\n",
    "# you can delete this cell which is specific to Google Colab. You may also\n",
    "# change the paths for data/logs in Arguments below.\n",
    "%matplotlib inline\n",
    "%load_ext autoreload\n",
    "%autoreload 2\n",
    "\n",
    "from google.colab import drive\n",
    "drive.mount('/content/gdrive')"
   ]
  },
  {
   "cell_type": "code",
   "execution_count": null,
   "metadata": {},
   "outputs": [],
   "source": [
    "#@title Link your assignment folder & install requirements\n",
    "#@markdown Enter the path to the assignment folder in your Google Drive\n",
    "# If you run this notebook locally or on a cluster (i.e. not on Google Colab)\n",
    "# you can delete this cell which is specific to Google Colab. You may also\n",
    "# change the paths for data/logs in Arguments below.\n",
    "import sys\n",
    "import os\n",
    "import shutil\n",
    "import warnings\n",
    "\n",
    "folder = \"/content/gdrive/MyDrive/IFT6135/HW2_2025/src\" #@param {type:\"string\"}\n",
    "!ln -Ts \"$folder\" /content/src 2> /dev/null\n",
    "\n",
    "# Add the assignment folder to Python path\n",
    "if '/content/src' not in sys.path:\n",
    "  sys.path.insert(0, '/content/src')\n",
    "\n",
    "# Check if CUDA is available\n",
    "import torch\n",
    "if not torch.cuda.is_available():\n",
    "  warnings.warn('CUDA is not available.')"
   ]
  },
  {
   "cell_type": "markdown",
   "metadata": {},
   "source": [
    "# Imports & Setup"
   ]
  },
  {
   "cell_type": "code",
   "execution_count": null,
   "metadata": {},
   "outputs": [],
   "source": [
    "%matplotlib inline\n",
    "import warnings\n",
    "\n",
    "from main import train_models\n",
    "from arguments import Arguments\n",
    "from shutil import make_archive\n",
    "\n",
    "models = ['lstm', 'gpt']\n",
    "seeds = [0, 42]"
   ]
  },
  {
   "cell_type": "markdown",
   "metadata": {},
   "source": [
    "# Experiments"
   ]
  },
  {
   "cell_type": "markdown",
   "metadata": {},
   "source": [
    "## Experiment 1 (Sanity Check)"
   ]
  },
  {
   "cell_type": "code",
   "execution_count": null,
   "metadata": {},
   "outputs": [],
   "source": [
    "experiment1 = Arguments()\n",
    "experiment1.log_dir = \"logs/experiment1\"\n",
    "experiment1.verbose = False\n",
    "\n",
    "for model in models:\n",
    "    experiment1.model = model\n",
    "    experiment1.exp_name = model\n",
    "    train_models(experiment1)"
   ]
  },
  {
   "cell_type": "code",
   "execution_count": null,
   "metadata": {},
   "outputs": [],
   "source": [
    "make_archive('experiment1', 'zip', 'logs/experiment1')"
   ]
  },
  {
   "cell_type": "markdown",
   "metadata": {},
   "source": [
    "## Experiment 2 (Scaling Data Size : Training Ratio)"
   ]
  },
  {
   "cell_type": "code",
   "execution_count": null,
   "metadata": {},
   "outputs": [],
   "source": [
    "experiment2 = Arguments()\n",
    "log_dir = \"logs/experiment2\"\n",
    "experiment2.verbose = False\n",
    "\n",
    "for model in models:\n",
    "    experiment2.model = model\n",
    "    experiment2.log_dir = os.path.join(log_dir, model)\n",
    "    for r in range(1, 10):\n",
    "        r = r / 10\n",
    "        experiment2.r_train = r\n",
    "        experiment2.exp_name = f\"{model}_r_{r}\"\n",
    "        train_models(experiment2)"
   ]
  },
  {
   "cell_type": "code",
   "execution_count": null,
   "metadata": {},
   "outputs": [],
   "source": [
    "make_archive('experiment2', 'zip', 'logs/experiment2')"
   ]
  },
  {
   "cell_type": "markdown",
   "metadata": {},
   "source": [
    "## Experiment 3 (Scaling Data Size : P)"
   ]
  },
  {
   "cell_type": "code",
   "execution_count": null,
   "metadata": {},
   "outputs": [],
   "source": [
    "experiment3 = Arguments()\n",
    "experiment3.log_dir = \"logs/experiment3\"\n",
    "experiment3.verbose = True\n",
    "\n",
    "experiment3.p = 11\n",
    "experiment3.operation_orders = [2, 3]\n",
    "\n",
    "for model in models:\n",
    "    experiment3.model = model\n",
    "    experiment3.exp_name = model\n",
    "    train_models(experiment3)"
   ]
  },
  {
   "cell_type": "code",
   "execution_count": null,
   "metadata": {},
   "outputs": [],
   "source": [
    "make_archive('experiment3', 'zip', 'logs/experiment3')"
   ]
  },
  {
   "cell_type": "markdown",
   "metadata": {},
   "source": [
    "## Experiment 4 (Scaling Model Size)"
   ]
  },
  {
   "cell_type": "code",
   "execution_count": null,
   "metadata": {},
   "outputs": [],
   "source": [
    "experiment4 = Arguments()\n",
    "logdir = \"logs/experiment4\"\n",
    "experiment4.verbose = False\n",
    "\n",
    "for model in models:\n",
    "    experiment4.model = model\n",
    "    experiment4.log_dir = os.path.join(log_dir, model)\n",
    "    for L in [1, 2, 3]:\n",
    "        experiment4.num_layers = L\n",
    "        for d in [2**6, 2**7, 2**8]:\n",
    "            experiment4.embedding_size = d\n",
    "            experiment4.hidden_size = d\n",
    "            experiment4.exp_name = f\"{model}_L_{L}_d_{d}\"\n",
    "            train_models(experiment4)"
   ]
  },
  {
   "cell_type": "code",
   "execution_count": null,
   "metadata": {},
   "outputs": [],
   "source": [
    "make_archive('experiment4', 'zip', 'logs/experiment4')"
   ]
  },
  {
   "cell_type": "markdown",
   "metadata": {},
   "source": [
    "## Experiment 5 (Scaling Compute)"
   ]
  },
  {
   "cell_type": "code",
   "execution_count": null,
   "metadata": {},
   "outputs": [],
   "source": [
    "experiment5 = Arguments()\n",
    "log_dir = \"logs/experiment5\"\n",
    "experiment5.verbose = False\n",
    "\n",
    "experiment5.n_steps = 2 * 10**4 + 1\n",
    "\n",
    "for model in models:\n",
    "    experiment5.model = model\n",
    "    experiment5.log_dir = os.path.join(log_dir, model)\n",
    "    for B in [2**5, 2**6, 2**7, 2**8, 2**9]:\n",
    "        experiment5.train_batch_size = B\n",
    "        experiment5.exp_name = f\"{model}_B_{B}\"\n",
    "        train_models(experiment5)"
   ]
  },
  {
   "cell_type": "code",
   "execution_count": null,
   "metadata": {},
   "outputs": [],
   "source": [
    "make_archive('experiment5', 'zip', 'logs/experiment5')"
   ]
  },
  {
   "cell_type": "markdown",
   "metadata": {},
   "source": [
    "## Experiment 6 (Regularisation)"
   ]
  },
  {
   "cell_type": "code",
   "execution_count": null,
   "metadata": {},
   "outputs": [],
   "source": [
    "experiment6 = Arguments()\n",
    "log_dir = \"logs/experiment6\"\n",
    "experiment6.verbose = False\n",
    "\n",
    "experiment6.n_steps = 4 * 10**4 + 1\n",
    "experiment6.model = \"lstm\"\n",
    "experiment6.log_dir = os.path.join(log_dir, experiment6.model)\n",
    "\n",
    "for wd in [0.25, 0.5, 0.75, 1.0]:\n",
    "    experiment6.weight_decay = wd\n",
    "    experiment6.exp_name = f\"{model}_wd_{wd}\"\n",
    "    train_models(experiment6)"
   ]
  },
  {
   "cell_type": "code",
   "execution_count": null,
   "metadata": {},
   "outputs": [],
   "source": [
    "make_archive('experiment6', 'zip', 'logs/experiment6')"
   ]
  }
 ],
 "metadata": {
  "kernelspec": {
   "display_name": "ift",
   "language": "python",
   "name": "python3"
  },
  "language_info": {
   "codemirror_mode": {
    "name": "ipython",
    "version": 3
   },
   "file_extension": ".py",
   "mimetype": "text/x-python",
   "name": "python",
   "nbconvert_exporter": "python",
   "pygments_lexer": "ipython3",
   "version": "3.13.2"
  }
 },
 "nbformat": 4,
 "nbformat_minor": 2
}
