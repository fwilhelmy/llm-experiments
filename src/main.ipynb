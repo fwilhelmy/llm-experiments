{
 "cells": [
  {
   "cell_type": "markdown",
   "metadata": {},
   "source": [
    "# Google Colab (Skip locally)"
   ]
  },
  {
   "cell_type": "code",
   "execution_count": null,
   "metadata": {},
   "outputs": [],
   "source": [
    "#@title Mount your Google Drive\n",
    "# If you run this notebook locally or on a cluster (i.e. not on Google Colab)\n",
    "# you can delete this cell which is specific to Google Colab. You may also\n",
    "# change the paths for data/logs in Arguments below.\n",
    "%matplotlib inline\n",
    "%load_ext autoreload\n",
    "%autoreload 2\n",
    "\n",
    "from google.colab import drive\n",
    "drive.mount('/content/gdrive')"
   ]
  },
  {
   "cell_type": "code",
   "execution_count": null,
   "metadata": {},
   "outputs": [],
   "source": [
    "#@title Link your assignment folder & install requirements\n",
    "#@markdown Enter the path to the assignment folder in your Google Drive\n",
    "# If you run this notebook locally or on a cluster (i.e. not on Google Colab)\n",
    "# you can delete this cell which is specific to Google Colab. You may also\n",
    "# change the paths for data/logs in Arguments below.\n",
    "import sys\n",
    "import os\n",
    "import shutil\n",
    "import warnings\n",
    "\n",
    "folder = \"/content/gdrive/MyDrive/IFT6135/HW2_2025/src\" #@param {type:\"string\"}\n",
    "!ln -Ts \"$folder\" /content/src 2> /dev/null\n",
    "\n",
    "# Add the assignment folder to Python path\n",
    "if '/content/src' not in sys.path:\n",
    "  sys.path.insert(0, '/content/src')\n",
    "\n",
    "# Check if CUDA is available\n",
    "import torch\n",
    "if not torch.cuda.is_available():\n",
    "  warnings.warn('CUDA is not available.')"
   ]
  },
  {
   "cell_type": "markdown",
   "metadata": {},
   "source": [
    "# Imports & Setup"
   ]
  },
  {
   "cell_type": "code",
   "execution_count": 3,
   "metadata": {},
   "outputs": [
    {
     "ename": "ImportError",
     "evalue": "cannot import name 'get_plot_data' from 'metrics' (c:\\Users\\fwilh\\Desktop\\IFT6135-HW2\\src\\metrics.py)",
     "output_type": "error",
     "traceback": [
      "\u001b[1;31m---------------------------------------------------------------------------\u001b[0m",
      "\u001b[1;31mImportError\u001b[0m                               Traceback (most recent call last)",
      "Cell \u001b[1;32mIn[3], line 8\u001b[0m\n\u001b[0;32m      6\u001b[0m \u001b[38;5;28;01mimport\u001b[39;00m\u001b[38;5;250m \u001b[39m\u001b[38;5;21;01mos\u001b[39;00m\n\u001b[0;32m      7\u001b[0m \u001b[38;5;28;01mfrom\u001b[39;00m\u001b[38;5;250m \u001b[39m\u001b[38;5;21;01mcheckpointing\u001b[39;00m\u001b[38;5;250m \u001b[39m\u001b[38;5;28;01mimport\u001b[39;00m get_all_checkpoints_per_trials\n\u001b[1;32m----> 8\u001b[0m \u001b[38;5;28;01mfrom\u001b[39;00m\u001b[38;5;250m \u001b[39m\u001b[38;5;21;01mplotter\u001b[39;00m\u001b[38;5;250m \u001b[39m\u001b[38;5;28;01mimport\u001b[39;00m plot_metrics_across_configurations, plot_best_across_configurations\n\u001b[0;32m     10\u001b[0m models \u001b[38;5;241m=\u001b[39m [\u001b[38;5;124m'\u001b[39m\u001b[38;5;124mlstm\u001b[39m\u001b[38;5;124m'\u001b[39m, \u001b[38;5;124m'\u001b[39m\u001b[38;5;124mgpt\u001b[39m\u001b[38;5;124m'\u001b[39m]\n\u001b[0;32m     11\u001b[0m seeds \u001b[38;5;241m=\u001b[39m [\u001b[38;5;241m0\u001b[39m, \u001b[38;5;241m42\u001b[39m, \u001b[38;5;241m7\u001b[39m]\n",
      "File \u001b[1;32mc:\\Users\\fwilh\\Desktop\\IFT6135-HW2\\src\\plotter.py:4\u001b[0m\n\u001b[0;32m      2\u001b[0m \u001b[38;5;28;01mimport\u001b[39;00m\u001b[38;5;250m \u001b[39m\u001b[38;5;21;01mnumpy\u001b[39;00m\u001b[38;5;250m \u001b[39m\u001b[38;5;28;01mas\u001b[39;00m\u001b[38;5;250m \u001b[39m\u001b[38;5;21;01mnp\u001b[39;00m\n\u001b[0;32m      3\u001b[0m \u001b[38;5;28;01mimport\u001b[39;00m\u001b[38;5;250m \u001b[39m\u001b[38;5;21;01mmatplotlib\u001b[39;00m\u001b[38;5;21;01m.\u001b[39;00m\u001b[38;5;21;01mpyplot\u001b[39;00m\u001b[38;5;250m \u001b[39m\u001b[38;5;28;01mas\u001b[39;00m\u001b[38;5;250m \u001b[39m\u001b[38;5;21;01mplt\u001b[39;00m\n\u001b[1;32m----> 4\u001b[0m \u001b[38;5;28;01mfrom\u001b[39;00m\u001b[38;5;250m \u001b[39m\u001b[38;5;21;01mmetrics\u001b[39;00m\u001b[38;5;250m \u001b[39m\u001b[38;5;28;01mimport\u001b[39;00m get_plot_data, extract_best_train_and_test_metrics\n\u001b[0;32m      6\u001b[0m \u001b[38;5;28;01mdef\u001b[39;00m\u001b[38;5;250m \u001b[39m\u001b[38;5;21mplot_metrics_across_configurations\u001b[39m(data, save_directory, mode\u001b[38;5;241m=\u001b[39m\u001b[38;5;124m\"\u001b[39m\u001b[38;5;124mmean\u001b[39m\u001b[38;5;124m\"\u001b[39m, seed_index\u001b[38;5;241m=\u001b[39m\u001b[38;5;241m0\u001b[39m):\n\u001b[0;32m      7\u001b[0m \u001b[38;5;250m    \u001b[39m\u001b[38;5;124;03m\"\"\"\u001b[39;00m\n\u001b[0;32m      8\u001b[0m \u001b[38;5;124;03m    Generate plots comparing a single metric across multiple configurations.\u001b[39;00m\n\u001b[0;32m      9\u001b[0m \u001b[38;5;124;03m    \u001b[39;00m\n\u001b[1;32m   (...)\u001b[0m\n\u001b[0;32m     20\u001b[0m \u001b[38;5;124;03m        seed_index (int): Run index to use if mode is 'specific'.\u001b[39;00m\n\u001b[0;32m     21\u001b[0m \u001b[38;5;124;03m    \"\"\"\u001b[39;00m\n",
      "\u001b[1;31mImportError\u001b[0m: cannot import name 'get_plot_data' from 'metrics' (c:\\Users\\fwilh\\Desktop\\IFT6135-HW2\\src\\metrics.py)"
     ]
    }
   ],
   "source": [
    "%matplotlib inline\n",
    "import warnings\n",
    "\n",
    "from main import train_models\n",
    "from arguments import Arguments\n",
    "import os\n",
    "from checkpointing import get_all_checkpoints_per_trials\n",
    "from plotter import plot_metrics_across_configurations, plot_best_across_configurations\n",
    "\n",
    "models = ['lstm', 'gpt']\n",
    "seeds = [0, 42, 7]\n",
    "colab = False"
   ]
  },
  {
   "cell_type": "markdown",
   "metadata": {},
   "source": [
    "# Experiments"
   ]
  },
  {
   "cell_type": "markdown",
   "metadata": {},
   "source": [
    "## Experiment 1 (Sanity Check)"
   ]
  },
  {
   "cell_type": "code",
   "execution_count": null,
   "metadata": {},
   "outputs": [],
   "source": [
    "experiment1 = Arguments()\n",
    "if colab: experiment1.num_workers = 2\n",
    "experiment1.log_dir = \"logs/experiment1\"\n",
    "\n",
    "for model in models:\n",
    "    experiment1.model = model\n",
    "    experiment1.exp_name = model\n",
    "    train_models(experiment1)"
   ]
  },
  {
   "cell_type": "code",
   "execution_count": null,
   "metadata": {},
   "outputs": [],
   "source": [
    "!zip -r experiment1.zip logs/experiment1"
   ]
  },
  {
   "cell_type": "markdown",
   "metadata": {},
   "source": [
    "## Experiment 2 (Scaling Data Size : Training Ratio)"
   ]
  },
  {
   "cell_type": "code",
   "execution_count": null,
   "metadata": {},
   "outputs": [],
   "source": [
    "experiment2 = Arguments()\n",
    "log_dir = \"logs/experiment2\"\n",
    "experiment2.verbose = False\n",
    "\n",
    "for model in models:\n",
    "    experiment2.model = model\n",
    "    experiment2.log_dir = os.path.join(log_dir, model)\n",
    "    for r in range(1, 10):\n",
    "        r = r / 10\n",
    "        experiment2.r_train = r\n",
    "        experiment2.exp_name = f\"{model}_r_{r}\"\n",
    "        train_models(experiment2)"
   ]
  },
  {
   "cell_type": "code",
   "execution_count": null,
   "metadata": {},
   "outputs": [],
   "source": [
    "!zip -r experiment2.zip logs/experiment2"
   ]
  },
  {
   "cell_type": "code",
   "execution_count": 2,
   "metadata": {},
   "outputs": [
    {
     "ename": "NameError",
     "evalue": "name 'models' is not defined",
     "output_type": "error",
     "traceback": [
      "\u001b[1;31m---------------------------------------------------------------------------\u001b[0m",
      "\u001b[1;31mNameError\u001b[0m                                 Traceback (most recent call last)",
      "Cell \u001b[1;32mIn[2], line 10\u001b[0m\n\u001b[0;32m      7\u001b[0m labels \u001b[38;5;241m=\u001b[39m [\u001b[38;5;124mf\u001b[39m\u001b[38;5;124m\"\u001b[39m\u001b[38;5;124mr_\u001b[39m\u001b[38;5;132;01m{\u001b[39;00mr\u001b[38;5;132;01m}\u001b[39;00m\u001b[38;5;124m\"\u001b[39m \u001b[38;5;28;01mfor\u001b[39;00m r \u001b[38;5;129;01min\u001b[39;00m configurations]\n\u001b[0;32m      9\u001b[0m results \u001b[38;5;241m=\u001b[39m {}\n\u001b[1;32m---> 10\u001b[0m \u001b[38;5;28;01mfor\u001b[39;00m model \u001b[38;5;129;01min\u001b[39;00m \u001b[43mmodels\u001b[49m:\n\u001b[0;32m     11\u001b[0m     results[model] \u001b[38;5;241m=\u001b[39m {}\n\u001b[0;32m     12\u001b[0m     \u001b[38;5;28;01mfor\u001b[39;00m label, configuration \u001b[38;5;129;01min\u001b[39;00m \u001b[38;5;28mzip\u001b[39m(labels, configurations):\n",
      "\u001b[1;31mNameError\u001b[0m: name 'models' is not defined"
     ]
    }
   ],
   "source": [
    "experiment2 = Arguments()\n",
    "experiment2.verbose = False\n",
    "\n",
    "experiment = experiment2\n",
    "log_dir = \"../logs/experiment2\"\n",
    "configurations = [r/10 for r in range(1, 10)]\n",
    "labels = [f\"r_{r}\" for r in configurations]\n",
    "\n",
    "results = {}\n",
    "for model in models:\n",
    "    results[model] = {}\n",
    "    for label, configuration in zip(labels, configurations):\n",
    "        exp_name = f\"{model}_{label}\"\n",
    "        experiment.log_dir = os.path.join(log_dir, model)\n",
    "        checkpoints = []\n",
    "        for m, seed in enumerate([0, 42]):\n",
    "            checkpoint_path = os.path.join(log_dir, model, exp_name, str(m))\n",
    "            checkpoints.append(checkpoint_path)\n",
    "        \n",
    "        models_path, metrics = get_all_checkpoints_per_trials(checkpoints, exp_name, just_files=True, verbose=experiment.verbose)\n",
    "        results[model][label] = metrics\n",
    "    \n",
    "    plot_metrics_across_configurations(results[model], experiment.log_dir, \"std\")\n",
    "    plot_best_across_configurations(results[model], experiment.log_dir)"
   ]
  },
  {
   "cell_type": "code",
   "execution_count": null,
   "metadata": {},
   "outputs": [],
   "source": [
    "import matplotlib.pyplot as plt\n",
    "\n",
    "def plot_accuracy_and_step_on_same_plot(config_names, best_accuracies, best_accuracy_steps):\n",
    "    \"\"\"\n",
    "    Plot best accuracy and the step of best accuracy on the same figure using two y-axes.\n",
    "    \n",
    "    Parameters:\n",
    "        config_names (list): List of configuration names (strings) for the x-axis.\n",
    "        best_accuracies (list): Best accuracy values, one per configuration.\n",
    "        best_accuracy_steps (list): Step at which the best accuracy was reached, one per configuration.\n",
    "    \"\"\"\n",
    "    # Create a figure and an axis\n",
    "    fig, ax1 = plt.subplots(figsize=(8,6))\n",
    "\n",
    "    # Plot best accuracy on the first y-axis\n",
    "    color1 = 'tab:blue'\n",
    "    ax1.set_xlabel('Configuration')\n",
    "    ax1.set_ylabel('Best Accuracy', color=color1)\n",
    "    ax1.plot(config_names, best_accuracies, marker='o', color=color1, label='Best Accuracy')\n",
    "    ax1.tick_params(axis='y', labelcolor=color1)\n",
    "    \n",
    "    # Create a twin of the first axis to share the same x-axis\n",
    "    ax2 = ax1.twinx()\n",
    "    color2 = 'tab:red'\n",
    "    ax2.set_ylabel('Step of Best Accuracy', color=color2)\n",
    "    ax2.plot(config_names, best_accuracy_steps, marker='x', color=color2, label='Step of Best Accuracy')\n",
    "    ax2.tick_params(axis='y', labelcolor=color2)\n",
    "\n",
    "    # Optionally, add a combined legend. We'll manually create a legend from both lines.\n",
    "    lines_1, labels_1 = ax1.get_legend_handles_labels()\n",
    "    lines_2, labels_2 = ax2.get_legend_handles_labels()\n",
    "    ax1.legend(lines_1 + lines_2, labels_1 + labels_2, loc='best')\n",
    "    \n",
    "    plt.title('Best Accuracy and Step vs. Configuration')\n",
    "    plt.tight_layout()\n",
    "    plt.show()\n",
    "\n",
    "\n",
    "\n",
    "plot_accuracy_and_step_on_same_plot(configs, accuracies, accuracy_steps)\n"
   ]
  },
  {
   "cell_type": "markdown",
   "metadata": {},
   "source": [
    "## Experiment 3 (Scaling Data Size : P)"
   ]
  },
  {
   "cell_type": "code",
   "execution_count": null,
   "metadata": {},
   "outputs": [],
   "source": [
    "experiment3 = Arguments()\n",
    "experiment3.log_dir = \"logs/experiment3\"\n",
    "experiment3.verbose = False\n",
    "\n",
    "experiment3.p = 11\n",
    "experiment3.operation_orders = [2, 3]\n",
    "\n",
    "for model in models:\n",
    "    experiment3.model = model\n",
    "    \n",
    "    experiment3.exp_name = model\n",
    "    train_models(experiment3)"
   ]
  },
  {
   "cell_type": "code",
   "execution_count": null,
   "metadata": {},
   "outputs": [],
   "source": [
    "!zip -r experiment3.zip logs/experiment3"
   ]
  },
  {
   "cell_type": "code",
   "execution_count": null,
   "metadata": {},
   "outputs": [],
   "source": [
    "log_dir = \"../logs/experiment3\"\n",
    "verbose = False\n",
    "\n",
    "performances = {}\n",
    "results = {}\n",
    "for model in models:\n",
    "    results[model], performances[model] = {}, {}\n",
    "    exp_name = f\"{model}\"\n",
    "    checkpoints = []\n",
    "    for m, seed in enumerate([0, 42]):\n",
    "        checkpoint_path = os.path.join(log_dir, model, str(m))\n",
    "        checkpoints.append(checkpoint_path)\n",
    "    \n",
    "    models_path, metrics = get_all_checkpoints_per_trials(checkpoints, exp_name, just_files=True, verbose=experiment.verbose)\n",
    "    results[model] = metrics\n",
    "    \n",
    "plot_all(results, save_path=log_dir, mode=\"std\")"
   ]
  },
  {
   "cell_type": "markdown",
   "metadata": {},
   "source": [
    "## Experiment 4 (Scaling Model Size)"
   ]
  },
  {
   "cell_type": "code",
   "execution_count": null,
   "metadata": {},
   "outputs": [],
   "source": [
    "experiment4 = Arguments()\n",
    "logdir = \"logs/experiment4\"\n",
    "experiment4.verbose = False\n",
    "\n",
    "for model in models:\n",
    "    experiment4.model = model\n",
    "    experiment4.log_dir = os.path.join(log_dir, model)\n",
    "    for L in [1, 2, 3]:\n",
    "        experiment4.num_layers = L\n",
    "        for d in [2**6, 2**7, 2**8]:\n",
    "            experiment4.embedding_size = d\n",
    "            experiment4.hidden_size = d\n",
    "            experiment4.exp_name = f\"{model}_L_{L}_d_{d}\"\n",
    "            train_models(experiment4)"
   ]
  },
  {
   "cell_type": "code",
   "execution_count": null,
   "metadata": {},
   "outputs": [],
   "source": [
    "!zip -r experiment4.zip logs/experiment4"
   ]
  },
  {
   "cell_type": "markdown",
   "metadata": {},
   "source": [
    "## Experiment 5 (Scaling Compute)"
   ]
  },
  {
   "cell_type": "code",
   "execution_count": null,
   "metadata": {},
   "outputs": [],
   "source": [
    "experiment5 = Arguments()\n",
    "log_dir = \"logs/experiment5\"\n",
    "experiment5.verbose = False\n",
    "\n",
    "experiment5.n_steps = 2 * 10**4 + 1\n",
    "\n",
    "for model in models:\n",
    "    experiment5.model = model\n",
    "    experiment5.log_dir = os.path.join(log_dir, model)\n",
    "    for B in [2**5, 2**6, 2**7, 2**8, 2**9]:\n",
    "        experiment5.batch_size = B\n",
    "\n",
    "        experiment5.exp_name = f\"{model}_B_{B}\"\n",
    "        train_models(experiment5)"
   ]
  },
  {
   "cell_type": "code",
   "execution_count": null,
   "metadata": {},
   "outputs": [],
   "source": [
    "!zip -r experiment5.zip logs/experiment5"
   ]
  },
  {
   "cell_type": "markdown",
   "metadata": {},
   "source": [
    "## Experiment 6 (Regularisation)"
   ]
  },
  {
   "cell_type": "code",
   "execution_count": null,
   "metadata": {},
   "outputs": [],
   "source": [
    "experiment6 = Arguments()\n",
    "log_dir = \"logs/experiment6\"\n",
    "experiment6.verbose = False\n",
    "\n",
    "experiment6.n_steps = 4 * 10**4 + 1\n",
    "model = \"lstm\"\n",
    "experiment6.model = model\n",
    "experiment6.log_dir = os.path.join(log_dir, model)\n",
    "\n",
    "for wd in [0.25, 0.5, 0.75, 1.0]:\n",
    "    experiment6.weight_decay = wd\n",
    "\n",
    "    experiment6.exp_name = f\"{model}_wd_{wd}\"\n",
    "    train_models(experiment6)"
   ]
  },
  {
   "cell_type": "code",
   "execution_count": null,
   "metadata": {},
   "outputs": [],
   "source": [
    "!zip -r experiment6.zip logs/experiment6"
   ]
  }
 ],
 "metadata": {
  "kernelspec": {
   "display_name": "ift",
   "language": "python",
   "name": "python3"
  },
  "language_info": {
   "codemirror_mode": {
    "name": "ipython",
    "version": 3
   },
   "file_extension": ".py",
   "mimetype": "text/x-python",
   "name": "python",
   "nbconvert_exporter": "python",
   "pygments_lexer": "ipython3",
   "version": "3.13.2"
  }
 },
 "nbformat": 4,
 "nbformat_minor": 2
}
