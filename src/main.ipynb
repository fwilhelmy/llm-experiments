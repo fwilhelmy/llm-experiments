{
 "cells": [
  {
   "cell_type": "markdown",
   "metadata": {},
   "source": [
    "# Google Colab (Skip locally)"
   ]
  },
  {
   "cell_type": "code",
   "execution_count": null,
   "metadata": {},
   "outputs": [],
   "source": [
    "# Mount your Google Drive\n",
    "%matplotlib inline\n",
    "%load_ext autoreload\n",
    "%autoreload 2\n",
    "\n",
    "from google.colab import drive\n",
    "import sys\n",
    "import os\n",
    "import shutil\n",
    "import warnings\n",
    "\n",
    "drive.mount('/content/gdrive')\n",
    "\n",
    "folder = \"/content/gdrive/MyDrive/IFT6135/HW1_2025/assignment1_release\" #@param {type:\"string\"}\n",
    "!ln -Ts \"$folder\" /content/assignment 2> /dev/null\n",
    "\n",
    "# Add the assignment folder to Python path\n",
    "if '/content/assignment' not in sys.path:\n",
    "  sys.path.insert(0, '/content/assignment')\n",
    "\n",
    "# Check if CUDA is available\n",
    "import torch\n",
    "if not torch.cuda.is_available():\n",
    "  warnings.warn('CUDA is not available.')"
   ]
  },
  {
   "cell_type": "markdown",
   "metadata": {},
   "source": [
    "# Imports & Setup"
   ]
  },
  {
   "cell_type": "code",
   "execution_count": null,
   "metadata": {},
   "outputs": [],
   "source": [
    "%matplotlib inline\n",
    "import warnings\n",
    "\n",
    "from main import train_models\n",
    "from arguments import Arguments\n",
    "import os\n",
    "\n",
    "models = ['lstm', 'gpt']"
   ]
  },
  {
   "cell_type": "markdown",
   "metadata": {},
   "source": [
    "# Experiments"
   ]
  },
  {
   "cell_type": "markdown",
   "metadata": {},
   "source": [
    "# Sanity Check"
   ]
  },
  {
   "cell_type": "markdown",
   "metadata": {},
   "source": [
    "## Experiment 1"
   ]
  },
  {
   "cell_type": "code",
   "execution_count": null,
   "metadata": {},
   "outputs": [],
   "source": [
    "args = Arguments()\n",
    "args.log_dir = f'./logs/experiment1'\n",
    "\n",
    "results = {}\n",
    "for model in models:\n",
    "    args.model = model\n",
    "    \n",
    "    args.exp_name = model\n",
    "    results[model] = train_models(args)"
   ]
  },
  {
   "cell_type": "markdown",
   "metadata": {},
   "source": [
    "# Experiment 2 (Scaling Data Size : Training Ratio)"
   ]
  },
  {
   "cell_type": "code",
   "execution_count": null,
   "metadata": {},
   "outputs": [],
   "source": [
    "args = Arguments()\n",
    "args.log_dir = f'./logs/experiment2'\n",
    "\n",
    "results = {}\n",
    "for model in models:\n",
    "    args.model = model\n",
    "    args.log_dir = os.path.join(args.log_dir, model)\n",
    "    for r in [0.1, 0.3, 0.5, 0.7, 0.9]:\n",
    "        args.r_train = r\n",
    "        \n",
    "        args.exp_name = f\"{model}_r_{r}\"\n",
    "        results[model] = train_models(args)"
   ]
  },
  {
   "cell_type": "markdown",
   "metadata": {},
   "source": [
    "# Experiment 3 (Scaling Data Size : P)"
   ]
  },
  {
   "cell_type": "code",
   "execution_count": null,
   "metadata": {},
   "outputs": [],
   "source": [
    "args = Arguments()\n",
    "args.log_dir = \"logs/experiment3\"\n",
    "\n",
    "args.p = 11\n",
    "# todo: add the rest of the arguments\n",
    "\n",
    "results = {}\n",
    "for model in models:\n",
    "    args.model = model\n",
    "    \n",
    "    args.exp_name = model\n",
    "    results[model] = train_models(args)"
   ]
  },
  {
   "cell_type": "markdown",
   "metadata": {},
   "source": [
    "# Experiment 4 (Scaling Model Size)"
   ]
  },
  {
   "cell_type": "code",
   "execution_count": null,
   "metadata": {},
   "outputs": [],
   "source": [
    "args = Arguments()\n",
    "args.log_dir = \"logs/experiment4\"\n",
    "\n",
    "for model in models:\n",
    "    args.model = model\n",
    "    args.log_dir = os.path.join(args.log_dir, model)\n",
    "    for L in [1, 2, 3]:\n",
    "        args.num_layers = L\n",
    "        for d in [2**6, 2**7, 2**8]:\n",
    "            args.embedding_size = d\n",
    "            args.hidden_size = d\n",
    "\n",
    "            args.exp_name = f\"{model}_L_{L}_d_{d}\"\n",
    "            train_models(args)"
   ]
  },
  {
   "cell_type": "markdown",
   "metadata": {},
   "source": [
    "# Experiment 5 (Scaling Compute)"
   ]
  },
  {
   "cell_type": "code",
   "execution_count": null,
   "metadata": {},
   "outputs": [],
   "source": [
    "args = Arguments()\n",
    "args.log_dir = \"logs/experiment5\"\n",
    "\n",
    "for model in models:\n",
    "    args.model = model\n",
    "    args.log_dir = os.path.join(args.log_dir, model)\n",
    "    for B in [2**5, 2**6, 2**7, 2**8, 2**9]:\n",
    "        args.batch_size = B\n",
    "\n",
    "        args.exp_name = f\"{model}_B_{B}\"\n",
    "        train_models(args)"
   ]
  },
  {
   "cell_type": "markdown",
   "metadata": {},
   "source": [
    "# Experiment 6 (Regularisation)"
   ]
  },
  {
   "cell_type": "code",
   "execution_count": null,
   "metadata": {},
   "outputs": [],
   "source": [
    "args = Arguments()\n",
    "args.log_dir = \"logs/experiment6\"\n",
    "\n",
    "for model in models:\n",
    "    args.model = model\n",
    "    args.log_dir = os.path.join(args.log_dir, model)\n",
    "    for wd in [0.25, 0.5, 0.75, 1.0]:\n",
    "        args.weight_decay = wd\n",
    "\n",
    "        args.exp_name = f\"{model}_wd_{wd}\"\n",
    "        train_models(args)"
   ]
  }
 ],
 "metadata": {
  "kernelspec": {
   "display_name": "ift",
   "language": "python",
   "name": "python3"
  },
  "language_info": {
   "codemirror_mode": {
    "name": "ipython",
    "version": 3
   },
   "file_extension": ".py",
   "mimetype": "text/x-python",
   "name": "python",
   "nbconvert_exporter": "python",
   "pygments_lexer": "ipython3",
   "version": "3.13.2"
  }
 },
 "nbformat": 4,
 "nbformat_minor": 2
}
