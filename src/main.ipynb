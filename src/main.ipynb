{
 "cells": [
  {
   "cell_type": "markdown",
   "metadata": {},
   "source": [
    "# Google Colab (Skip locally)"
   ]
  },
  {
   "cell_type": "code",
   "execution_count": null,
   "metadata": {},
   "outputs": [],
   "source": [
    "#@title Mount your Google Drive\n",
    "# If you run this notebook locally or on a cluster (i.e. not on Google Colab)\n",
    "# you can delete this cell which is specific to Google Colab. You may also\n",
    "# change the paths for data/logs in Arguments below.\n",
    "%matplotlib inline\n",
    "%load_ext autoreload\n",
    "%autoreload 2\n",
    "\n",
    "from google.colab import drive\n",
    "drive.mount('/content/gdrive')"
   ]
  },
  {
   "cell_type": "code",
   "execution_count": null,
   "metadata": {},
   "outputs": [],
   "source": [
    "#@title Link your assignment folder & install requirements\n",
    "#@markdown Enter the path to the assignment folder in your Google Drive\n",
    "# If you run this notebook locally or on a cluster (i.e. not on Google Colab)\n",
    "# you can delete this cell which is specific to Google Colab. You may also\n",
    "# change the paths for data/logs in Arguments below.\n",
    "import sys\n",
    "import os\n",
    "import shutil\n",
    "import warnings\n",
    "\n",
    "folder = \"/content/gdrive/MyDrive/IFT6135/HW2_2025/src\" #@param {type:\"string\"}\n",
    "!ln -Ts \"$folder\" /content/src 2> /dev/null\n",
    "\n",
    "# Add the assignment folder to Python path\n",
    "if '/content/src' not in sys.path:\n",
    "  sys.path.insert(0, '/content/src')\n",
    "\n",
    "# Check if CUDA is available\n",
    "import torch\n",
    "if not torch.cuda.is_available():\n",
    "  warnings.warn('CUDA is not available.')"
   ]
  },
  {
   "cell_type": "markdown",
   "metadata": {},
   "source": [
    "# Imports & Setup"
   ]
  },
  {
   "cell_type": "code",
   "execution_count": 1,
   "metadata": {},
   "outputs": [],
   "source": [
    "%matplotlib inline\n",
    "import warnings\n",
    "\n",
    "from main import train_models\n",
    "from arguments import Arguments\n",
    "import os\n",
    "from plotter import plot_all, plot_metrics\n",
    "from checkpointing import get_all_checkpoints_per_trials\n",
    "\n",
    "models = ['lstm', 'gpt']\n",
    "seeds = [0, 42, 7]\n",
    "colab = False"
   ]
  },
  {
   "cell_type": "markdown",
   "metadata": {},
   "source": [
    "# Experiments"
   ]
  },
  {
   "cell_type": "markdown",
   "metadata": {},
   "source": [
    "## Experiment 1 (Sanity Check)"
   ]
  },
  {
   "cell_type": "code",
   "execution_count": null,
   "metadata": {},
   "outputs": [],
   "source": [
    "experiment1 = Arguments()\n",
    "if colab: experiment1.num_workers = 2\n",
    "experiment1.log_dir = \"logs/experiment1\"\n",
    "\n",
    "results = {}\n",
    "for model in models:\n",
    "    experiment1.model = model\n",
    "    \n",
    "    experiment1.exp_name = model\n",
    "    train_models(experiment1)\n",
    "\n",
    "plot_all(results, save_path=experiment1.log_dir, mode=\"std\")"
   ]
  },
  {
   "cell_type": "code",
   "execution_count": null,
   "metadata": {},
   "outputs": [],
   "source": [
    "!zip -r experiment1.zip logs/experiment1"
   ]
  },
  {
   "cell_type": "markdown",
   "metadata": {},
   "source": [
    "## Experiment 2 (Scaling Data Size : Training Ratio)"
   ]
  },
  {
   "cell_type": "code",
   "execution_count": null,
   "metadata": {},
   "outputs": [],
   "source": [
    "experiment2 = Arguments()\n",
    "log_dir = \"logs/experiment2\"\n",
    "experiment2.verbose = False\n",
    "\n",
    "for model in models:\n",
    "    experiment2.model = model\n",
    "    experiment2.log_dir = os.path.join(log_dir, model)\n",
    "    for r in range(1, 10):\n",
    "        r = r / 10\n",
    "        experiment2.r_train = r\n",
    "        experiment2.exp_name = f\"{model}_r_{r}\"\n",
    "        train_models(experiment2)"
   ]
  },
  {
   "cell_type": "code",
   "execution_count": null,
   "metadata": {},
   "outputs": [],
   "source": [
    "!zip -r experiment2.zip logs/experiment2"
   ]
  },
  {
   "cell_type": "code",
   "execution_count": 12,
   "metadata": {},
   "outputs": [],
   "source": [
    "experiment2 = Arguments()\n",
    "experiment2.verbose = False\n",
    "\n",
    "log_dir = \"../logs/experiment2\"\n",
    "configurations = [r/10 for r in range(1, 10)]\n",
    "labels = [f\"r_{r}\" for r in configurations]\n",
    "\n",
    "performances = {}\n",
    "results = {}\n",
    "for model in models:\n",
    "    results[model], performances[model] = {}, {}\n",
    "    for label, configuration in zip(labels, configurations):\n",
    "        exp_name = f\"{model}_{label}\"\n",
    "        experiment2.exp_name = exp_name\n",
    "        experiment2.log_dir = os.path.join(log_dir, model)\n",
    "        checkpoints = []\n",
    "        for m, seed in enumerate([0, 42]):\n",
    "            checkpoint_path = os.path.join(log_dir, model, exp_name, str(m))\n",
    "            checkpoints.append(checkpoint_path)\n",
    "        \n",
    "        models_path, metrics = get_all_checkpoints_per_trials(checkpoints, exp_name, just_files=True, verbose=experiment2.verbose)\n",
    "        results[model][experiment2.exp_name] = metrics\n",
    "        performances[model][configuration] = metrics[\"performance\"]\n",
    "    \n",
    "    # plot_all(results[model], save_path=experiment2.log_dir, mode=\"std\")\n",
    "    plot_all(results[model], save_path=experiment2.log_dir, mode=\"mean\")\n",
    "\n",
    "plot_metrics(performances, axis_labels=(\"r\", \"Time (s)\"), key_metric=\"total_elapsed\", mode=\"std\", file_name=\"Training_Time\", save_path=log_dir, show=experiment2.verbose)"
   ]
  },
  {
   "cell_type": "markdown",
   "metadata": {},
   "source": [
    "## Experiment 3 (Scaling Data Size : P)"
   ]
  },
  {
   "cell_type": "code",
   "execution_count": null,
   "metadata": {},
   "outputs": [],
   "source": [
    "experiment3 = Arguments()\n",
    "experiment3.log_dir = \"logs/experiment3\"\n",
    "experiment3.verbose = False\n",
    "\n",
    "experiment3.p = 11\n",
    "experiment3.operation_orders = [2, 3]\n",
    "\n",
    "results = {}\n",
    "for model in models:\n",
    "    experiment3.model = model\n",
    "    \n",
    "    experiment3.exp_name = model\n",
    "    train_models(experiment3)"
   ]
  },
  {
   "cell_type": "code",
   "execution_count": null,
   "metadata": {},
   "outputs": [],
   "source": [
    "!zip -r experiment3.zip logs/experiment3"
   ]
  },
  {
   "cell_type": "markdown",
   "metadata": {},
   "source": [
    "## Experiment 4 (Scaling Model Size)"
   ]
  },
  {
   "cell_type": "code",
   "execution_count": null,
   "metadata": {},
   "outputs": [],
   "source": [
    "experiment4 = Arguments()\n",
    "logdir = \"logs/experiment4\"\n",
    "experiment4.verbose = False\n",
    "\n",
    "for model in models:\n",
    "    experiment4.model = model\n",
    "    experiment4.log_dir = os.path.join(log_dir, model)\n",
    "    for L in [1, 2, 3]:\n",
    "        experiment4.num_layers = L\n",
    "        for d in [2**6, 2**7, 2**8]:\n",
    "            experiment4.embedding_size = d\n",
    "            experiment4.hidden_size = d\n",
    "            experiment4.exp_name = f\"{model}_L_{L}_d_{d}\"\n",
    "            train_models(experiment4)"
   ]
  },
  {
   "cell_type": "code",
   "execution_count": null,
   "metadata": {},
   "outputs": [],
   "source": [
    "!zip -r experiment4.zip logs/experiment4"
   ]
  },
  {
   "cell_type": "markdown",
   "metadata": {},
   "source": [
    "## Experiment 5 (Scaling Compute)"
   ]
  },
  {
   "cell_type": "code",
   "execution_count": null,
   "metadata": {},
   "outputs": [],
   "source": [
    "experiment5 = Arguments()\n",
    "log_dir = \"logs/experiment5\"\n",
    "experiment5.verbose = False\n",
    "\n",
    "experiment5.n_steps = 2 * 10**4 + 1\n",
    "\n",
    "for model in models:\n",
    "    experiment5.model = model\n",
    "    experiment5.log_dir = os.path.join(log_dir, model)\n",
    "    for B in [2**5, 2**6, 2**7, 2**8, 2**9]:\n",
    "        experiment5.batch_size = B\n",
    "\n",
    "        experiment5.exp_name = f\"{model}_B_{B}\"\n",
    "        train_models(experiment5)"
   ]
  },
  {
   "cell_type": "code",
   "execution_count": null,
   "metadata": {},
   "outputs": [],
   "source": [
    "!zip -r experiment5.zip logs/experiment5"
   ]
  },
  {
   "cell_type": "markdown",
   "metadata": {},
   "source": [
    "## Experiment 6 (Regularisation)"
   ]
  },
  {
   "cell_type": "code",
   "execution_count": null,
   "metadata": {},
   "outputs": [],
   "source": [
    "experiment6 = Arguments()\n",
    "if colab: experiment6.num_workers = 2\n",
    "experiment6.log_dir = \"logs/experiment6\"\n",
    "\n",
    "for model in models:\n",
    "    experiment6.model = model\n",
    "    experiment6.log_dir = os.path.join(experiment6.log_dir, model)\n",
    "    for wd in [0.25, 0.5, 0.75, 1.0]:\n",
    "        experiment6.weight_decay = wd\n",
    "\n",
    "        experiment6.exp_name = f\"{model}_wd_{wd}\"\n",
    "        train_models(experiment6)"
   ]
  },
  {
   "cell_type": "code",
   "execution_count": null,
   "metadata": {},
   "outputs": [],
   "source": [
    "!zip -r experiment6.zip logs/experiment6"
   ]
  }
 ],
 "metadata": {
  "kernelspec": {
   "display_name": "ift",
   "language": "python",
   "name": "python3"
  },
  "language_info": {
   "codemirror_mode": {
    "name": "ipython",
    "version": 3
   },
   "file_extension": ".py",
   "mimetype": "text/x-python",
   "name": "python",
   "nbconvert_exporter": "python",
   "pygments_lexer": "ipython3",
   "version": "3.13.2"
  }
 },
 "nbformat": 4,
 "nbformat_minor": 2
}